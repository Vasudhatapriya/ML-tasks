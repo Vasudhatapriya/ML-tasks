{
  "nbformat": 4,
  "nbformat_minor": 0,
  "metadata": {
    "colab": {
      "name": "Task1.ipynb",
      "provenance": [],
      "collapsed_sections": []
    },
    "kernelspec": {
      "name": "python3",
      "display_name": "Python 3"
    }
  },
  "cells": [
    {
      "cell_type": "code",
      "metadata": {
        "id": "Mwp3oJGJgwAB",
        "colab_type": "code",
        "colab": {}
      },
      "source": [
        "#importing the necessary libraries\n",
        "import numpy as np    # linear algebra\n",
        "import pandas as pd   # data processing/feature engineering"
      ],
      "execution_count": 1,
      "outputs": []
    },
    {
      "cell_type": "code",
      "metadata": {
        "id": "Bja1r_jwgxpo",
        "colab_type": "code",
        "colab": {}
      },
      "source": [
        "#importing datasets \n",
        "dataset=pd.read_csv('dataset.csv')\n",
        "preddata=pd.read_csv('prediction.csv')"
      ],
      "execution_count": 2,
      "outputs": []
    },
    {
      "cell_type": "code",
      "metadata": {
        "id": "vekJJW1ohSKi",
        "colab_type": "code",
        "colab": {
          "base_uri": "https://localhost:8080/",
          "height": 34
        },
        "outputId": "f7a02128-f9a6-4f15-f26c-296f81656c1d"
      },
      "source": [
        "#dividing the training dataset into x_test,y_test,x_train,y_train\n",
        "x=dataset.iloc[:,:-1].values\n",
        "y=dataset.iloc[:,9].values\n",
        "from sklearn.model_selection import train_test_split\n",
        "x_train,x_test,y_train,y_test=train_test_split(x,y,test_size=0.2,random_state=0)\n",
        "x.shape"
      ],
      "execution_count": 3,
      "outputs": [
        {
          "output_type": "execute_result",
          "data": {
            "text/plain": [
              "(900, 9)"
            ]
          },
          "metadata": {
            "tags": []
          },
          "execution_count": 3
        }
      ]
    },
    {
      "cell_type": "code",
      "metadata": {
        "id": "bQUaemhdhmqG",
        "colab_type": "code",
        "colab": {}
      },
      "source": [
        "#replacing the missing values in x_train\n",
        "from sklearn.impute import SimpleImputer\n",
        "imputer = SimpleImputer(missing_values=np.nan, strategy='mean')\n",
        "imputer = imputer.fit(x_train[:, 0:9])\n",
        "x_train[:, 0:9] = imputer.transform(x_train[:, 0:9])"
      ],
      "execution_count": 4,
      "outputs": []
    },
    {
      "cell_type": "code",
      "metadata": {
        "id": "y8TdlOkTh3Hz",
        "colab_type": "code",
        "colab": {}
      },
      "source": [
        "#replacing the missing values in x_train\n",
        "from sklearn.impute import SimpleImputer\n",
        "imputer = SimpleImputer(missing_values=np.nan, strategy='mean')\n",
        "imputer = imputer.fit(x_test[:, 0:9])\n",
        "x_test[:, 0:9] = imputer.transform(x_test[:, 0:9])"
      ],
      "execution_count": 5,
      "outputs": []
    },
    {
      "cell_type": "code",
      "metadata": {
        "id": "GxPofsqZh7UI",
        "colab_type": "code",
        "colab": {
          "base_uri": "https://localhost:8080/",
          "height": 34
        },
        "outputId": "76fca8d7-3108-442b-da1d-4a7c49397f6c"
      },
      "source": [
        "from sklearn.linear_model import LinearRegression\n",
        "regressor=LinearRegression()\n",
        "regressor.fit(x_train,y_train)"
      ],
      "execution_count": 6,
      "outputs": [
        {
          "output_type": "execute_result",
          "data": {
            "text/plain": [
              "LinearRegression(copy_X=True, fit_intercept=True, n_jobs=None, normalize=False)"
            ]
          },
          "metadata": {
            "tags": []
          },
          "execution_count": 6
        }
      ]
    },
    {
      "cell_type": "code",
      "metadata": {
        "id": "TBRuEGsRh-I_",
        "colab_type": "code",
        "colab": {}
      },
      "source": [
        "y_pred=regressor.predict(x_test)"
      ],
      "execution_count": 14,
      "outputs": []
    },
    {
      "cell_type": "code",
      "metadata": {
        "id": "3AS04w7CiCBg",
        "colab_type": "code",
        "colab": {
          "base_uri": "https://localhost:8080/",
          "height": 773
        },
        "outputId": "f21b2481-0bd6-4a2b-d810-a99f08c24548"
      },
      "source": [
        "y_pred"
      ],
      "execution_count": 15,
      "outputs": [
        {
          "output_type": "execute_result",
          "data": {
            "text/plain": [
              "array([ 9301.4050874 ,  9356.02156164,  8701.82742152,  9086.45162861,\n",
              "        9311.11951415,  8451.70328424,  8875.25119193,  8322.10531988,\n",
              "        7774.73480293,  7926.04438232,  8484.24138348,  9042.47021511,\n",
              "        9349.34914152, 10275.46277937,  8220.567704  ,  9884.4722423 ,\n",
              "        7559.53692289,  9935.11949099,  8154.74722793,  7491.03482418,\n",
              "        7935.18771941,  9619.74776404,  8910.39192523,  8939.57511015,\n",
              "        8633.40890069,  9977.24107989,  8367.92130994,  9277.15267536,\n",
              "        9717.98224904,  8613.94356818,  8300.20307673,  9495.19071442,\n",
              "        8454.28163327, 10869.50379527,  8704.65375097,  8834.24617491,\n",
              "        9981.4715397 ,  8618.67494868,  9305.39534331,  8512.44153432,\n",
              "       11005.74900926,  9434.4195439 ,  8554.19732173,  9031.79661261,\n",
              "       10016.12513706,  9150.5502564 ,  9319.72360575,  8414.16581063,\n",
              "        9351.70878781,  9528.6971253 ,  8785.93351308,  8091.87844642,\n",
              "        8850.99544964,  9991.89620605,  9055.41046563,  8308.13543595,\n",
              "        8399.62463984,  9472.89805919,  8488.1466568 ,  8976.19049624,\n",
              "        8038.50782181,  8470.27709099,  8671.97304937,  9016.30021818,\n",
              "        9079.74938256,  8577.56020695,  8374.98509334,  9517.55738453,\n",
              "        9294.81197957,  8179.78317719,  9777.0467639 ,  9778.24723338,\n",
              "        8734.67399013,  8312.6789927 ,  9148.41641211,  8097.91151684,\n",
              "        8122.93452129,  9440.2511144 , 10207.32611195,  8700.89255416,\n",
              "        9369.67331427, 10210.18498711,  8532.6141882 ,  7939.13885492,\n",
              "       10434.19375553,  8732.48950695, 10046.37604691,  9016.23469454,\n",
              "        9174.89153197, 10236.09632696,  8527.39840255,  9681.34964091,\n",
              "        8720.8430657 ,  8562.00938981,  7877.26163866,  8983.79574218,\n",
              "        8382.70052332,  8247.07416288,  9715.8871494 ,  9343.0095638 ,\n",
              "        7566.42088439,  9066.51264542,  8720.23861248,  9069.80633927,\n",
              "        8873.00019938,  9322.16419397,  9107.62739473,  8665.30182443,\n",
              "        7771.97909944,  9867.65667505,  9484.2623323 ,  9688.87053516,\n",
              "        8810.24822538,  8291.25893632,  8737.72787057,  8417.01239669,\n",
              "        8773.00959726,  8900.80866971,  8863.16070906,  8827.37041642,\n",
              "        9039.95623899,  9129.57314067, 10289.92890333,  8679.9057259 ,\n",
              "        9399.73865249,  8451.21678831,  7900.40438796,  9535.34821092,\n",
              "        9392.50590182,  7990.79847688,  8145.79115234, 10860.66832078,\n",
              "        9155.5526348 , 10215.65890538,  8760.69178686,  9093.49562322,\n",
              "        9474.68969335,  9283.70273315,  9358.86917481,  8294.42514047,\n",
              "        8493.31376157,  8660.12434188,  8242.9760771 ,  8869.13377157,\n",
              "       10231.77115574,  9087.961825  ,  9058.73218494,  9990.39203802,\n",
              "        9263.38832718,  9446.71360885,  8273.58661315,  8664.45911793,\n",
              "        9742.17755547,  9255.77120821,  9580.12417132,  8972.81184342,\n",
              "        8657.72962321,  8803.42206592,  9081.75323024,  8999.42796712,\n",
              "        7911.77752825, 10533.10239263,  7825.82419928,  9060.48229778,\n",
              "        9100.55791951,  8971.74995858,  9802.08729849,  7806.29744452,\n",
              "        8268.49982232, 10088.80775195,  9648.74337776,  9052.61450052,\n",
              "        9879.26590942,  8133.55718339,  8688.43368256, 10021.23846518,\n",
              "        9086.74367805,  9119.39618885, 10467.67464235,  9069.22783144])"
            ]
          },
          "metadata": {
            "tags": []
          },
          "execution_count": 15
        }
      ]
    },
    {
      "cell_type": "code",
      "metadata": {
        "id": "vAUupJs-iUHT",
        "colab_type": "code",
        "colab": {
          "base_uri": "https://localhost:8080/",
          "height": 773
        },
        "outputId": "15131f86-3881-403a-8b23-715b26ff2cb1"
      },
      "source": [
        "(y_test)"
      ],
      "execution_count": 16,
      "outputs": [
        {
          "output_type": "execute_result",
          "data": {
            "text/plain": [
              "array([ 9517.1046336 ,  9779.63911229,  8842.03843299,  9018.13945709,\n",
              "        8859.50005198,  8865.9948426 ,  9486.44321308,  8574.76390133,\n",
              "        7501.47234909,  7450.00391551,  8873.15985377,  9007.82130439,\n",
              "        9713.45134992, 10621.12964356,  8494.59595225, 10178.07277714,\n",
              "        6879.44994141,  9643.74614733,  8513.94586139,  7070.55541878,\n",
              "        8186.02001918,  9938.64470985,  8861.87592578,  8872.61886961,\n",
              "        9045.38058375,  9421.01918137,  8688.72109415,  9931.68140915,\n",
              "        9666.52457901,  8618.21672473,  7483.98336733,  8988.15786035,\n",
              "        8167.51920318, 10456.41770327,  8601.38606278,  8411.13278985,\n",
              "       10056.4100952 ,  8747.90833409,  9168.57314223,  8415.11327199,\n",
              "       10541.68854304, 10114.76173045,  8920.92573014,  8994.32712972,\n",
              "        9931.38070972,  9109.70856251,  9208.00678551,  7998.16441607,\n",
              "        9470.0033031 ,  9573.3620957 ,  8202.45898227,  7823.48059286,\n",
              "        8842.66945793, 10205.97150415,  9722.18389348,  8205.9999755 ,\n",
              "        8571.88976382,  9510.8483171 ,  9170.45863401,  9338.49345078,\n",
              "        7903.82965289,  9058.63337704,  8977.61615252,  9426.18463945,\n",
              "        8872.13903431,  9125.13749742,  8763.89532809,  9503.49972534,\n",
              "        9633.76001503,  7743.06313122,  9473.52998007,  9843.95008679,\n",
              "        8860.34916151,  7979.43252   ,  8749.63721866,  7791.42448062,\n",
              "        8101.4656117 ,  8879.69292175, 10375.37110001,  9157.16741905,\n",
              "       10035.53372624, 10503.71421985,  8633.62926695,  7509.56290471,\n",
              "       10340.37399952,  8975.05142908, 10375.23891143,  9136.79332125,\n",
              "        8831.46489278,  9852.77573578,  7776.2322343 , 10113.84783158,\n",
              "        9072.09205207,  8503.18120314,  7927.50082026,  9325.72263457,\n",
              "        8258.54533486,  8498.03050918,  9951.04973712,  9373.54283513,\n",
              "        7507.61355062,  9667.50754553,  9098.36388551,  9130.68193826,\n",
              "        9177.02926126,  9446.07505023,  9969.00685182,  8330.87502644,\n",
              "        8055.46443865,  9785.7576027 ,  9884.7971843 ,  9989.18844055,\n",
              "        8881.83532891,  8181.69900203,  8416.46639106,  8786.56980828,\n",
              "        9361.90820006,  8721.03025257,  9133.51197351,  8843.86920141,\n",
              "        9609.17832714,  9178.67327492,  9654.36757922,  9138.64299158,\n",
              "        9130.30791773,  8011.08266637,  7558.59644548,  9300.13312554,\n",
              "        9470.1076256 ,  7471.22559735,  7441.7929358 , 10032.74795328,\n",
              "        9347.3295978 , 10021.3954259 ,  8979.44487065,  9423.07443558,\n",
              "        9354.4656425 ,  9583.53761629,  9089.82587117,  8060.66084951,\n",
              "        8301.4196358 ,  8278.67697103,  8516.41985639,  8809.42725723,\n",
              "       10195.60108098,  9286.41520416,  9489.10160416,  9505.06332251,\n",
              "       10004.19728613,  8919.40384835,  8281.34099452,  8794.95081503,\n",
              "        9624.85138398,  9375.79579326,  9384.79329671,  8845.87373499,\n",
              "        8349.95525286,  9026.94841901,  9435.36056328,  9743.72184924,\n",
              "        7483.8499295 , 10435.50795582,  7277.5066981 ,  8979.30187487,\n",
              "        9288.81719114,  9395.96753032,  9500.64967123,  7271.9001447 ,\n",
              "        8283.36069834, 10386.63296906,  9240.25447095,  8998.34079053,\n",
              "        9414.82322859,  8084.61939806,  8444.27959052,  9698.02849136,\n",
              "        9310.47927291,  9492.19741859, 10073.7630237 ,  9798.93721316])"
            ]
          },
          "metadata": {
            "tags": []
          },
          "execution_count": 16
        }
      ]
    },
    {
      "cell_type": "code",
      "metadata": {
        "id": "HIfAG1dZ4zty",
        "colab_type": "code",
        "colab": {}
      },
      "source": [
        "  abs_error = np.abs(y_pred - y_test)\n",
        "  sum_abs_error = np.sum(abs_error)\n",
        "  mae = sum_abs_error / y_test.size"
      ],
      "execution_count": 17,
      "outputs": []
    },
    {
      "cell_type": "code",
      "metadata": {
        "id": "2z1jfN4s4-xa",
        "colab_type": "code",
        "colab": {
          "base_uri": "https://localhost:8080/",
          "height": 34
        },
        "outputId": "c433d474-deab-4d8c-bb61-898bde516575"
      },
      "source": [
        "#comparing y_pred and y_test\n",
        "mae"
      ],
      "execution_count": 18,
      "outputs": [
        {
          "output_type": "execute_result",
          "data": {
            "text/plain": [
              "301.0501867982655"
            ]
          },
          "metadata": {
            "tags": []
          },
          "execution_count": 18
        }
      ]
    },
    {
      "cell_type": "code",
      "metadata": {
        "id": "nz9YoJ8kifaM",
        "colab_type": "code",
        "colab": {}
      },
      "source": [
        "#building the model using backward elimination\n",
        "import statsmodels.api as sm\n",
        "#to add b0\n",
        "x=np.append(arr=np.ones((900,1)).astype(int), values=x, axis=1)"
      ],
      "execution_count": 19,
      "outputs": []
    },
    {
      "cell_type": "code",
      "metadata": {
        "id": "jTaeBSuVucRo",
        "colab_type": "code",
        "colab": {
          "base_uri": "https://localhost:8080/",
          "height": 67
        },
        "outputId": "03fdca43-403c-4e5e-d1be-c623e8900897"
      },
      "source": [
        "x[0]"
      ],
      "execution_count": 20,
      "outputs": [
        {
          "output_type": "execute_result",
          "data": {
            "text/plain": [
              "array([1.00000000e+00, 1.00000000e+00, 7.54760017e+00, 1.51260787e-01,\n",
              "       5.57132466e+02, 3.54008599e+02, 3.01028697e-01, 5.52825943e+01,\n",
              "       9.63521168e+03, 2.00000000e+00, 1.00000000e+00])"
            ]
          },
          "metadata": {
            "tags": []
          },
          "execution_count": 20
        }
      ]
    },
    {
      "cell_type": "code",
      "metadata": {
        "id": "iabgYUTIlLxc",
        "colab_type": "code",
        "colab": {
          "base_uri": "https://localhost:8080/",
          "height": 612
        },
        "outputId": "e1a38822-1b11-41b7-f3a2-863ddf592e5d"
      },
      "source": [
        "#for removing unnec feature columns\n",
        "x_opt=x[:,[0,1,2,3,4,5,6,7,8,9]]\n",
        "regressor_OLS=sm.OLS(endog=y,exog=x_opt).fit()\n",
        "regressor_OLS.summary()"
      ],
      "execution_count": 21,
      "outputs": [
        {
          "output_type": "execute_result",
          "data": {
            "text/html": [
              "<table class=\"simpletable\">\n",
              "<caption>OLS Regression Results</caption>\n",
              "<tr>\n",
              "  <th>Dep. Variable:</th>            <td>y</td>        <th>  R-squared:         </th> <td>   0.829</td> \n",
              "</tr>\n",
              "<tr>\n",
              "  <th>Model:</th>                   <td>OLS</td>       <th>  Adj. R-squared:    </th> <td>   0.828</td> \n",
              "</tr>\n",
              "<tr>\n",
              "  <th>Method:</th>             <td>Least Squares</td>  <th>  F-statistic:       </th> <td>   540.6</td> \n",
              "</tr>\n",
              "<tr>\n",
              "  <th>Date:</th>             <td>Fri, 26 Jun 2020</td> <th>  Prob (F-statistic):</th>  <td>  0.00</td>  \n",
              "</tr>\n",
              "<tr>\n",
              "  <th>Time:</th>                 <td>05:33:46</td>     <th>  Log-Likelihood:    </th> <td> -6554.9</td> \n",
              "</tr>\n",
              "<tr>\n",
              "  <th>No. Observations:</th>      <td>   900</td>      <th>  AIC:               </th> <td>1.313e+04</td>\n",
              "</tr>\n",
              "<tr>\n",
              "  <th>Df Residuals:</th>          <td>   891</td>      <th>  BIC:               </th> <td>1.317e+04</td>\n",
              "</tr>\n",
              "<tr>\n",
              "  <th>Df Model:</th>              <td>     8</td>      <th>                     </th>     <td> </td>    \n",
              "</tr>\n",
              "<tr>\n",
              "  <th>Covariance Type:</th>      <td>nonrobust</td>    <th>                     </th>     <td> </td>    \n",
              "</tr>\n",
              "</table>\n",
              "<table class=\"simpletable\">\n",
              "<tr>\n",
              "    <td></td>       <th>coef</th>     <th>std err</th>      <th>t</th>      <th>P>|t|</th>  <th>[0.025</th>    <th>0.975]</th>  \n",
              "</tr>\n",
              "<tr>\n",
              "  <th>const</th> <td>  469.5907</td> <td>  201.491</td> <td>    2.331</td> <td> 0.020</td> <td>   74.138</td> <td>  865.043</td>\n",
              "</tr>\n",
              "<tr>\n",
              "  <th>x1</th>    <td>  469.5907</td> <td>  201.491</td> <td>    2.331</td> <td> 0.020</td> <td>   74.138</td> <td>  865.043</td>\n",
              "</tr>\n",
              "<tr>\n",
              "  <th>x2</th>    <td>   14.7312</td> <td>    4.123</td> <td>    3.573</td> <td> 0.000</td> <td>    6.640</td> <td>   22.823</td>\n",
              "</tr>\n",
              "<tr>\n",
              "  <th>x3</th>    <td>  224.8903</td> <td>   40.891</td> <td>    5.500</td> <td> 0.000</td> <td>  144.636</td> <td>  305.145</td>\n",
              "</tr>\n",
              "<tr>\n",
              "  <th>x4</th>    <td>    1.0342</td> <td>    0.041</td> <td>   25.375</td> <td> 0.000</td> <td>    0.954</td> <td>    1.114</td>\n",
              "</tr>\n",
              "<tr>\n",
              "  <th>x5</th>    <td>    0.0172</td> <td>    0.101</td> <td>    0.170</td> <td> 0.865</td> <td>   -0.181</td> <td>    0.216</td>\n",
              "</tr>\n",
              "<tr>\n",
              "  <th>x6</th>    <td>-1951.7158</td> <td>   41.570</td> <td>  -46.950</td> <td> 0.000</td> <td>-2033.303</td> <td>-1870.129</td>\n",
              "</tr>\n",
              "<tr>\n",
              "  <th>x7</th>    <td>    0.8195</td> <td>    0.415</td> <td>    1.977</td> <td> 0.048</td> <td>    0.006</td> <td>    1.633</td>\n",
              "</tr>\n",
              "<tr>\n",
              "  <th>x8</th>    <td>    0.9949</td> <td>    0.042</td> <td>   23.661</td> <td> 0.000</td> <td>    0.912</td> <td>    1.077</td>\n",
              "</tr>\n",
              "<tr>\n",
              "  <th>x9</th>    <td> -523.0917</td> <td>   15.095</td> <td>  -34.654</td> <td> 0.000</td> <td> -552.717</td> <td> -493.466</td>\n",
              "</tr>\n",
              "</table>\n",
              "<table class=\"simpletable\">\n",
              "<tr>\n",
              "  <th>Omnibus:</th>       <td>12.172</td> <th>  Durbin-Watson:     </th> <td>   2.073</td>\n",
              "</tr>\n",
              "<tr>\n",
              "  <th>Prob(Omnibus):</th> <td> 0.002</td> <th>  Jarque-Bera (JB):  </th> <td>   8.082</td>\n",
              "</tr>\n",
              "<tr>\n",
              "  <th>Skew:</th>          <td>-0.080</td> <th>  Prob(JB):          </th> <td>  0.0176</td>\n",
              "</tr>\n",
              "<tr>\n",
              "  <th>Kurtosis:</th>      <td> 2.564</td> <th>  Cond. No.          </th> <td>1.77e+19</td>\n",
              "</tr>\n",
              "</table><br/><br/>Warnings:<br/>[1] Standard Errors assume that the covariance matrix of the errors is correctly specified.<br/>[2] The smallest eigenvalue is 2.61e-28. This might indicate that there are<br/>strong multicollinearity problems or that the design matrix is singular."
            ],
            "text/plain": [
              "<class 'statsmodels.iolib.summary.Summary'>\n",
              "\"\"\"\n",
              "                            OLS Regression Results                            \n",
              "==============================================================================\n",
              "Dep. Variable:                      y   R-squared:                       0.829\n",
              "Model:                            OLS   Adj. R-squared:                  0.828\n",
              "Method:                 Least Squares   F-statistic:                     540.6\n",
              "Date:                Fri, 26 Jun 2020   Prob (F-statistic):               0.00\n",
              "Time:                        05:33:46   Log-Likelihood:                -6554.9\n",
              "No. Observations:                 900   AIC:                         1.313e+04\n",
              "Df Residuals:                     891   BIC:                         1.317e+04\n",
              "Df Model:                           8                                         \n",
              "Covariance Type:            nonrobust                                         \n",
              "==============================================================================\n",
              "                 coef    std err          t      P>|t|      [0.025      0.975]\n",
              "------------------------------------------------------------------------------\n",
              "const        469.5907    201.491      2.331      0.020      74.138     865.043\n",
              "x1           469.5907    201.491      2.331      0.020      74.138     865.043\n",
              "x2            14.7312      4.123      3.573      0.000       6.640      22.823\n",
              "x3           224.8903     40.891      5.500      0.000     144.636     305.145\n",
              "x4             1.0342      0.041     25.375      0.000       0.954       1.114\n",
              "x5             0.0172      0.101      0.170      0.865      -0.181       0.216\n",
              "x6         -1951.7158     41.570    -46.950      0.000   -2033.303   -1870.129\n",
              "x7             0.8195      0.415      1.977      0.048       0.006       1.633\n",
              "x8             0.9949      0.042     23.661      0.000       0.912       1.077\n",
              "x9          -523.0917     15.095    -34.654      0.000    -552.717    -493.466\n",
              "==============================================================================\n",
              "Omnibus:                       12.172   Durbin-Watson:                   2.073\n",
              "Prob(Omnibus):                  0.002   Jarque-Bera (JB):                8.082\n",
              "Skew:                          -0.080   Prob(JB):                       0.0176\n",
              "Kurtosis:                       2.564   Cond. No.                     1.77e+19\n",
              "==============================================================================\n",
              "\n",
              "Warnings:\n",
              "[1] Standard Errors assume that the covariance matrix of the errors is correctly specified.\n",
              "[2] The smallest eigenvalue is 2.61e-28. This might indicate that there are\n",
              "strong multicollinearity problems or that the design matrix is singular.\n",
              "\"\"\""
            ]
          },
          "metadata": {
            "tags": []
          },
          "execution_count": 21
        }
      ]
    },
    {
      "cell_type": "code",
      "metadata": {
        "id": "iJoBFKwAuQhx",
        "colab_type": "code",
        "colab": {
          "base_uri": "https://localhost:8080/",
          "height": 593
        },
        "outputId": "e87cea7d-dd69-4731-a09e-7b686dc20c20"
      },
      "source": [
        "#removed 4th column\n",
        "x_opt=x[:,[0,1,2,3,5,6,7,8,9]]\n",
        "regressor_OLS=sm.OLS(endog=y,exog=x_opt).fit()\n",
        "regressor_OLS.summary() "
      ],
      "execution_count": 22,
      "outputs": [
        {
          "output_type": "execute_result",
          "data": {
            "text/html": [
              "<table class=\"simpletable\">\n",
              "<caption>OLS Regression Results</caption>\n",
              "<tr>\n",
              "  <th>Dep. Variable:</th>            <td>y</td>        <th>  R-squared:         </th> <td>   0.706</td> \n",
              "</tr>\n",
              "<tr>\n",
              "  <th>Model:</th>                   <td>OLS</td>       <th>  Adj. R-squared:    </th> <td>   0.703</td> \n",
              "</tr>\n",
              "<tr>\n",
              "  <th>Method:</th>             <td>Least Squares</td>  <th>  F-statistic:       </th> <td>   305.6</td> \n",
              "</tr>\n",
              "<tr>\n",
              "  <th>Date:</th>             <td>Fri, 26 Jun 2020</td> <th>  Prob (F-statistic):</th> <td>6.36e-232</td>\n",
              "</tr>\n",
              "<tr>\n",
              "  <th>Time:</th>                 <td>05:33:46</td>     <th>  Log-Likelihood:    </th> <td> -6799.6</td> \n",
              "</tr>\n",
              "<tr>\n",
              "  <th>No. Observations:</th>      <td>   900</td>      <th>  AIC:               </th> <td>1.362e+04</td>\n",
              "</tr>\n",
              "<tr>\n",
              "  <th>Df Residuals:</th>          <td>   892</td>      <th>  BIC:               </th> <td>1.365e+04</td>\n",
              "</tr>\n",
              "<tr>\n",
              "  <th>Df Model:</th>              <td>     7</td>      <th>                     </th>     <td> </td>    \n",
              "</tr>\n",
              "<tr>\n",
              "  <th>Covariance Type:</th>      <td>nonrobust</td>    <th>                     </th>     <td> </td>    \n",
              "</tr>\n",
              "</table>\n",
              "<table class=\"simpletable\">\n",
              "<tr>\n",
              "    <td></td>       <th>coef</th>     <th>std err</th>      <th>t</th>      <th>P>|t|</th>  <th>[0.025</th>    <th>0.975]</th>  \n",
              "</tr>\n",
              "<tr>\n",
              "  <th>const</th> <td>  803.4010</td> <td>  263.747</td> <td>    3.046</td> <td> 0.002</td> <td>  285.764</td> <td> 1321.038</td>\n",
              "</tr>\n",
              "<tr>\n",
              "  <th>x1</th>    <td>  803.4010</td> <td>  263.747</td> <td>    3.046</td> <td> 0.002</td> <td>  285.764</td> <td> 1321.038</td>\n",
              "</tr>\n",
              "<tr>\n",
              "  <th>x2</th>    <td>   14.8342</td> <td>    5.408</td> <td>    2.743</td> <td> 0.006</td> <td>    4.220</td> <td>   25.448</td>\n",
              "</tr>\n",
              "<tr>\n",
              "  <th>x3</th>    <td>  251.6608</td> <td>   53.622</td> <td>    4.693</td> <td> 0.000</td> <td>  146.420</td> <td>  356.902</td>\n",
              "</tr>\n",
              "<tr>\n",
              "  <th>x4</th>    <td>   -0.0754</td> <td>    0.133</td> <td>   -0.569</td> <td> 0.570</td> <td>   -0.336</td> <td>    0.185</td>\n",
              "</tr>\n",
              "<tr>\n",
              "  <th>x5</th>    <td>-1905.2031</td> <td>   54.478</td> <td>  -34.972</td> <td> 0.000</td> <td>-2012.123</td> <td>-1798.284</td>\n",
              "</tr>\n",
              "<tr>\n",
              "  <th>x6</th>    <td>    0.4328</td> <td>    0.543</td> <td>    0.796</td> <td> 0.426</td> <td>   -0.634</td> <td>    1.499</td>\n",
              "</tr>\n",
              "<tr>\n",
              "  <th>x7</th>    <td>    0.9785</td> <td>    0.055</td> <td>   17.741</td> <td> 0.000</td> <td>    0.870</td> <td>    1.087</td>\n",
              "</tr>\n",
              "<tr>\n",
              "  <th>x8</th>    <td> -519.0957</td> <td>   19.800</td> <td>  -26.217</td> <td> 0.000</td> <td> -557.956</td> <td> -480.236</td>\n",
              "</tr>\n",
              "</table>\n",
              "<table class=\"simpletable\">\n",
              "<tr>\n",
              "  <th>Omnibus:</th>       <td>11.586</td> <th>  Durbin-Watson:     </th> <td>   1.956</td>\n",
              "</tr>\n",
              "<tr>\n",
              "  <th>Prob(Omnibus):</th> <td> 0.003</td> <th>  Jarque-Bera (JB):  </th> <td>   7.497</td>\n",
              "</tr>\n",
              "<tr>\n",
              "  <th>Skew:</th>          <td>-0.049</td> <th>  Prob(JB):          </th> <td>  0.0236</td>\n",
              "</tr>\n",
              "<tr>\n",
              "  <th>Kurtosis:</th>      <td> 2.564</td> <th>  Cond. No.          </th> <td>2.54e+19</td>\n",
              "</tr>\n",
              "</table><br/><br/>Warnings:<br/>[1] Standard Errors assume that the covariance matrix of the errors is correctly specified.<br/>[2] The smallest eigenvalue is 1.27e-28. This might indicate that there are<br/>strong multicollinearity problems or that the design matrix is singular."
            ],
            "text/plain": [
              "<class 'statsmodels.iolib.summary.Summary'>\n",
              "\"\"\"\n",
              "                            OLS Regression Results                            \n",
              "==============================================================================\n",
              "Dep. Variable:                      y   R-squared:                       0.706\n",
              "Model:                            OLS   Adj. R-squared:                  0.703\n",
              "Method:                 Least Squares   F-statistic:                     305.6\n",
              "Date:                Fri, 26 Jun 2020   Prob (F-statistic):          6.36e-232\n",
              "Time:                        05:33:46   Log-Likelihood:                -6799.6\n",
              "No. Observations:                 900   AIC:                         1.362e+04\n",
              "Df Residuals:                     892   BIC:                         1.365e+04\n",
              "Df Model:                           7                                         \n",
              "Covariance Type:            nonrobust                                         \n",
              "==============================================================================\n",
              "                 coef    std err          t      P>|t|      [0.025      0.975]\n",
              "------------------------------------------------------------------------------\n",
              "const        803.4010    263.747      3.046      0.002     285.764    1321.038\n",
              "x1           803.4010    263.747      3.046      0.002     285.764    1321.038\n",
              "x2            14.8342      5.408      2.743      0.006       4.220      25.448\n",
              "x3           251.6608     53.622      4.693      0.000     146.420     356.902\n",
              "x4            -0.0754      0.133     -0.569      0.570      -0.336       0.185\n",
              "x5         -1905.2031     54.478    -34.972      0.000   -2012.123   -1798.284\n",
              "x6             0.4328      0.543      0.796      0.426      -0.634       1.499\n",
              "x7             0.9785      0.055     17.741      0.000       0.870       1.087\n",
              "x8          -519.0957     19.800    -26.217      0.000    -557.956    -480.236\n",
              "==============================================================================\n",
              "Omnibus:                       11.586   Durbin-Watson:                   1.956\n",
              "Prob(Omnibus):                  0.003   Jarque-Bera (JB):                7.497\n",
              "Skew:                          -0.049   Prob(JB):                       0.0236\n",
              "Kurtosis:                       2.564   Cond. No.                     2.54e+19\n",
              "==============================================================================\n",
              "\n",
              "Warnings:\n",
              "[1] Standard Errors assume that the covariance matrix of the errors is correctly specified.\n",
              "[2] The smallest eigenvalue is 1.27e-28. This might indicate that there are\n",
              "strong multicollinearity problems or that the design matrix is singular.\n",
              "\"\"\""
            ]
          },
          "metadata": {
            "tags": []
          },
          "execution_count": 22
        }
      ]
    },
    {
      "cell_type": "code",
      "metadata": {
        "id": "9Tzt7Ub5w-DP",
        "colab_type": "code",
        "colab": {
          "base_uri": "https://localhost:8080/",
          "height": 573
        },
        "outputId": "3d644135-d126-416b-9a66-0b7de101af55"
      },
      "source": [
        "x_opt=x[:,[0,1,2,3,5,6,7,8]]\n",
        "regressor_OLS=sm.OLS(endog=y,exog=x_opt).fit()\n",
        "regressor_OLS.summary() "
      ],
      "execution_count": 23,
      "outputs": [
        {
          "output_type": "execute_result",
          "data": {
            "text/html": [
              "<table class=\"simpletable\">\n",
              "<caption>OLS Regression Results</caption>\n",
              "<tr>\n",
              "  <th>Dep. Variable:</th>            <td>y</td>        <th>  R-squared:         </th> <td>   0.479</td> \n",
              "</tr>\n",
              "<tr>\n",
              "  <th>Model:</th>                   <td>OLS</td>       <th>  Adj. R-squared:    </th> <td>   0.475</td> \n",
              "</tr>\n",
              "<tr>\n",
              "  <th>Method:</th>             <td>Least Squares</td>  <th>  F-statistic:       </th> <td>   136.8</td> \n",
              "</tr>\n",
              "<tr>\n",
              "  <th>Date:</th>             <td>Fri, 26 Jun 2020</td> <th>  Prob (F-statistic):</th> <td>8.99e-123</td>\n",
              "</tr>\n",
              "<tr>\n",
              "  <th>Time:</th>                 <td>05:33:47</td>     <th>  Log-Likelihood:    </th> <td> -7056.7</td> \n",
              "</tr>\n",
              "<tr>\n",
              "  <th>No. Observations:</th>      <td>   900</td>      <th>  AIC:               </th> <td>1.413e+04</td>\n",
              "</tr>\n",
              "<tr>\n",
              "  <th>Df Residuals:</th>          <td>   893</td>      <th>  BIC:               </th> <td>1.416e+04</td>\n",
              "</tr>\n",
              "<tr>\n",
              "  <th>Df Model:</th>              <td>     6</td>      <th>                     </th>     <td> </td>    \n",
              "</tr>\n",
              "<tr>\n",
              "  <th>Covariance Type:</th>      <td>nonrobust</td>    <th>                     </th>     <td> </td>    \n",
              "</tr>\n",
              "</table>\n",
              "<table class=\"simpletable\">\n",
              "<tr>\n",
              "    <td></td>       <th>coef</th>     <th>std err</th>      <th>t</th>      <th>P>|t|</th>  <th>[0.025</th>    <th>0.975]</th>  \n",
              "</tr>\n",
              "<tr>\n",
              "  <th>const</th> <td> -237.2307</td> <td>  346.756</td> <td>   -0.684</td> <td> 0.494</td> <td> -917.782</td> <td>  443.321</td>\n",
              "</tr>\n",
              "<tr>\n",
              "  <th>x1</th>    <td> -237.2307</td> <td>  346.756</td> <td>   -0.684</td> <td> 0.494</td> <td> -917.782</td> <td>  443.321</td>\n",
              "</tr>\n",
              "<tr>\n",
              "  <th>x2</th>    <td>   14.1485</td> <td>    7.192</td> <td>    1.967</td> <td> 0.049</td> <td>    0.033</td> <td>   28.264</td>\n",
              "</tr>\n",
              "<tr>\n",
              "  <th>x3</th>    <td>  292.3404</td> <td>   71.281</td> <td>    4.101</td> <td> 0.000</td> <td>  152.442</td> <td>  432.239</td>\n",
              "</tr>\n",
              "<tr>\n",
              "  <th>x4</th>    <td>   -0.1059</td> <td>    0.176</td> <td>   -0.600</td> <td> 0.549</td> <td>   -0.452</td> <td>    0.240</td>\n",
              "</tr>\n",
              "<tr>\n",
              "  <th>x5</th>    <td>-1811.5181</td> <td>   72.293</td> <td>  -25.058</td> <td> 0.000</td> <td>-1953.401</td> <td>-1669.635</td>\n",
              "</tr>\n",
              "<tr>\n",
              "  <th>x6</th>    <td>   -0.6435</td> <td>    0.721</td> <td>   -0.893</td> <td> 0.372</td> <td>   -2.058</td> <td>    0.771</td>\n",
              "</tr>\n",
              "<tr>\n",
              "  <th>x7</th>    <td>    1.0894</td> <td>    0.073</td> <td>   14.897</td> <td> 0.000</td> <td>    0.946</td> <td>    1.233</td>\n",
              "</tr>\n",
              "</table>\n",
              "<table class=\"simpletable\">\n",
              "<tr>\n",
              "  <th>Omnibus:</th>       <td> 4.692</td> <th>  Durbin-Watson:     </th> <td>   1.949</td>\n",
              "</tr>\n",
              "<tr>\n",
              "  <th>Prob(Omnibus):</th> <td> 0.096</td> <th>  Jarque-Bera (JB):  </th> <td>   4.691</td>\n",
              "</tr>\n",
              "<tr>\n",
              "  <th>Skew:</th>          <td>-0.154</td> <th>  Prob(JB):          </th> <td>  0.0958</td>\n",
              "</tr>\n",
              "<tr>\n",
              "  <th>Kurtosis:</th>      <td> 2.827</td> <th>  Cond. No.          </th> <td>2.92e+19</td>\n",
              "</tr>\n",
              "</table><br/><br/>Warnings:<br/>[1] Standard Errors assume that the covariance matrix of the errors is correctly specified.<br/>[2] The smallest eigenvalue is 9.59e-29. This might indicate that there are<br/>strong multicollinearity problems or that the design matrix is singular."
            ],
            "text/plain": [
              "<class 'statsmodels.iolib.summary.Summary'>\n",
              "\"\"\"\n",
              "                            OLS Regression Results                            \n",
              "==============================================================================\n",
              "Dep. Variable:                      y   R-squared:                       0.479\n",
              "Model:                            OLS   Adj. R-squared:                  0.475\n",
              "Method:                 Least Squares   F-statistic:                     136.8\n",
              "Date:                Fri, 26 Jun 2020   Prob (F-statistic):          8.99e-123\n",
              "Time:                        05:33:47   Log-Likelihood:                -7056.7\n",
              "No. Observations:                 900   AIC:                         1.413e+04\n",
              "Df Residuals:                     893   BIC:                         1.416e+04\n",
              "Df Model:                           6                                         \n",
              "Covariance Type:            nonrobust                                         \n",
              "==============================================================================\n",
              "                 coef    std err          t      P>|t|      [0.025      0.975]\n",
              "------------------------------------------------------------------------------\n",
              "const       -237.2307    346.756     -0.684      0.494    -917.782     443.321\n",
              "x1          -237.2307    346.756     -0.684      0.494    -917.782     443.321\n",
              "x2            14.1485      7.192      1.967      0.049       0.033      28.264\n",
              "x3           292.3404     71.281      4.101      0.000     152.442     432.239\n",
              "x4            -0.1059      0.176     -0.600      0.549      -0.452       0.240\n",
              "x5         -1811.5181     72.293    -25.058      0.000   -1953.401   -1669.635\n",
              "x6            -0.6435      0.721     -0.893      0.372      -2.058       0.771\n",
              "x7             1.0894      0.073     14.897      0.000       0.946       1.233\n",
              "==============================================================================\n",
              "Omnibus:                        4.692   Durbin-Watson:                   1.949\n",
              "Prob(Omnibus):                  0.096   Jarque-Bera (JB):                4.691\n",
              "Skew:                          -0.154   Prob(JB):                       0.0958\n",
              "Kurtosis:                       2.827   Cond. No.                     2.92e+19\n",
              "==============================================================================\n",
              "\n",
              "Warnings:\n",
              "[1] Standard Errors assume that the covariance matrix of the errors is correctly specified.\n",
              "[2] The smallest eigenvalue is 9.59e-29. This might indicate that there are\n",
              "strong multicollinearity problems or that the design matrix is singular.\n",
              "\"\"\""
            ]
          },
          "metadata": {
            "tags": []
          },
          "execution_count": 23
        }
      ]
    },
    {
      "cell_type": "code",
      "metadata": {
        "id": "jG4LAxmVzvUw",
        "colab_type": "code",
        "colab": {
          "base_uri": "https://localhost:8080/",
          "height": 50
        },
        "outputId": "7f236c99-c242-4b2b-b5d8-4305dddc36f4"
      },
      "source": [
        "x_opt[0]"
      ],
      "execution_count": 24,
      "outputs": [
        {
          "output_type": "execute_result",
          "data": {
            "text/plain": [
              "array([1.00000000e+00, 1.00000000e+00, 7.54760017e+00, 1.51260787e-01,\n",
              "       3.54008599e+02, 3.01028697e-01, 5.52825943e+01, 9.63521168e+03])"
            ]
          },
          "metadata": {
            "tags": []
          },
          "execution_count": 24
        }
      ]
    },
    {
      "cell_type": "code",
      "metadata": {
        "id": "1ydomB5OErgH",
        "colab_type": "code",
        "colab": {
          "base_uri": "https://localhost:8080/",
          "height": 67
        },
        "outputId": "4e556aec-23ef-4863-aa12-d90cc0967de4"
      },
      "source": [
        "x[0]"
      ],
      "execution_count": 25,
      "outputs": [
        {
          "output_type": "execute_result",
          "data": {
            "text/plain": [
              "array([1.00000000e+00, 1.00000000e+00, 7.54760017e+00, 1.51260787e-01,\n",
              "       5.57132466e+02, 3.54008599e+02, 3.01028697e-01, 5.52825943e+01,\n",
              "       9.63521168e+03, 2.00000000e+00, 1.00000000e+00])"
            ]
          },
          "metadata": {
            "tags": []
          },
          "execution_count": 25
        }
      ]
    },
    {
      "cell_type": "code",
      "metadata": {
        "id": "No8GHhLo5PR5",
        "colab_type": "code",
        "colab": {}
      },
      "source": [
        "from sklearn.model_selection import train_test_split\n",
        "x_train,x_test,y_train,y_test=train_test_split(x_opt,y,test_size=0.2,random_state=0)"
      ],
      "execution_count": 26,
      "outputs": []
    },
    {
      "cell_type": "code",
      "metadata": {
        "id": "wAVmpcc_7VuG",
        "colab_type": "code",
        "colab": {}
      },
      "source": [
        " from sklearn.impute import SimpleImputer\n",
        "imputer = SimpleImputer(missing_values=np.nan, strategy='mean')\n",
        "imputer = imputer.fit(x_train[:, 0:9])\n",
        "x_train[:, 0:9] = imputer.transform(x_train[:, 0:9])"
      ],
      "execution_count": 27,
      "outputs": []
    },
    {
      "cell_type": "code",
      "metadata": {
        "id": "0dLGkyD57bIc",
        "colab_type": "code",
        "colab": {}
      },
      "source": [
        "from sklearn.impute import SimpleImputer\n",
        "imputer = SimpleImputer(missing_values=np.nan, strategy='mean')\n",
        "imputer = imputer.fit(x_test[:, 0:9])\n",
        "x_test[:, 0:9] = imputer.transform(x_test[:, 0:9])"
      ],
      "execution_count": 28,
      "outputs": []
    },
    {
      "cell_type": "code",
      "metadata": {
        "id": "hr5haOs97dfk",
        "colab_type": "code",
        "colab": {
          "base_uri": "https://localhost:8080/",
          "height": 34
        },
        "outputId": "04cca41d-d70c-4a59-c3c3-ac56bef3fd26"
      },
      "source": [
        "from sklearn.linear_model import LinearRegression\n",
        "regressor=LinearRegression()\n",
        "regressor.fit(x_train,y_train)"
      ],
      "execution_count": 29,
      "outputs": [
        {
          "output_type": "execute_result",
          "data": {
            "text/plain": [
              "LinearRegression(copy_X=True, fit_intercept=True, n_jobs=None, normalize=False)"
            ]
          },
          "metadata": {
            "tags": []
          },
          "execution_count": 29
        }
      ]
    },
    {
      "cell_type": "code",
      "metadata": {
        "id": "b3tshPq67hr4",
        "colab_type": "code",
        "colab": {}
      },
      "source": [
        "y_pred=regressor.predict(x_test)"
      ],
      "execution_count": 30,
      "outputs": []
    },
    {
      "cell_type": "code",
      "metadata": {
        "id": "koPAJGYu7kPp",
        "colab_type": "code",
        "colab": {
          "base_uri": "https://localhost:8080/",
          "height": 773
        },
        "outputId": "ffbec731-f7c9-426e-8b2a-3072454a27c0"
      },
      "source": [
        "y_pred"
      ],
      "execution_count": 31,
      "outputs": [
        {
          "output_type": "execute_result",
          "data": {
            "text/plain": [
              "array([ 9242.35296131,  9464.91086405,  8988.07738156,  9500.21445356,\n",
              "        9379.80274191,  8843.29074697,  8416.96177054,  7963.16920567,\n",
              "        8810.94510471,  8854.03412554,  8358.84620631,  8324.49679605,\n",
              "        9745.96073361,  9770.59330409,  9032.67444003,  9235.48981004,\n",
              "        8044.87425316,  9200.53211558,  7776.37924073,  7897.66586276,\n",
              "        8470.57534339,  9617.60344679,  9157.53613833,  9358.64144187,\n",
              "        8686.5837564 ,  9584.6005242 ,  8457.00571861,  8493.20406684,\n",
              "        9938.44352049,  8265.21305993,  8714.97371398,  9640.50019396,\n",
              "        9065.99893754,  9950.96350984,  8923.26424499,  8983.81874932,\n",
              "        9710.0501128 ,  8409.10851467,  8911.43013028,  8484.74642895,\n",
              "       10323.34693097,  9986.08043356,  8758.9486178 ,  9196.52336734,\n",
              "        9478.77600753,  8647.94711019,  9344.77039149,  8934.54135139,\n",
              "        8513.92935085,  9522.98375315,  8785.31292474,  8044.85709377,\n",
              "        8870.92708361,  9672.72666218,  9737.59715429,  9036.62880793,\n",
              "        8864.34164448,  8485.52531116,  9437.10820029,  9119.76347033,\n",
              "        8772.84474982,  8469.04463704,  8544.50300969,  9057.02512534,\n",
              "        8802.18952736,  9539.22466831,  8286.72101676,  9514.40369382,\n",
              "        8637.50533218,  8536.2809718 ,  9605.37520203,  9798.21265644,\n",
              "        9641.14134029,  8727.66980207,  8945.59804407,  8788.48989969,\n",
              "        9156.13756104,  9488.86113423,  9887.57103336,  9301.8787034 ,\n",
              "        9496.59759704, 10153.36050202,  8916.02564246,  8508.70506708,\n",
              "        9900.03775636,  8306.02719492,  9532.99957373,  9007.23457222,\n",
              "        9083.36216382, 10309.77645132,  9068.68445791,  9139.9892395 ,\n",
              "        9060.91998804,  8798.22173425,  8178.03015428,  8946.66262832,\n",
              "        8959.78859061,  8419.98772394,  9136.06044252,  9302.27679416,\n",
              "        7926.85040145,  9823.0667879 ,  8532.07374479,  8983.26714399,\n",
              "        8863.88666506,  9222.3039211 , 10133.35372003,  9247.58038356,\n",
              "        7962.92541965,  9321.38955577,  8513.67834011, 10147.04545488,\n",
              "        8676.93164774,  8555.39008066,  9024.6256064 ,  9243.63161029,\n",
              "        9619.89508779,  8586.96047608,  9329.15946073,  9251.01312259,\n",
              "        8560.87931217,  9515.45763456,  9551.04400191,  8616.8841852 ,\n",
              "        9507.84179589,  8492.56971948,  8909.03046647,  9268.85125413,\n",
              "        9691.49678469,  8063.40576881,  8412.78755142,  9880.81263397,\n",
              "        8856.51671535,  9539.17336148,  8570.63131393,  9211.43876061,\n",
              "        9241.20303248,  9214.88158805,  9155.13513442,  9085.98786187,\n",
              "        9025.08481622,  8744.93212697,  8706.83863328,  8258.53357515,\n",
              "       10215.22020869,  8951.53509551,  9826.0890721 ,  9558.26773011,\n",
              "        9507.26846461,  9186.48942503,  8878.03763551,  9462.25388262,\n",
              "        9255.74396078,  9520.26064145,  9320.02331333,  8920.6779077 ,\n",
              "        9453.3263694 ,  8418.16703456,  8597.37256175,  8391.7267201 ,\n",
              "        8369.81942805,  9942.38995549,  8669.89980776,  9100.64994038,\n",
              "        9069.88305615,  9393.39810463, 10056.22016617,  8205.55032187,\n",
              "        8033.75918726,  9162.32214203,  9267.79415649,  8576.65831033,\n",
              "       10161.60069991,  8875.52640145,  9043.19511157,  9781.84879464,\n",
              "        8825.04871837,  8350.16647477, 10142.2674055 ,  8033.56018292])"
            ]
          },
          "metadata": {
            "tags": []
          },
          "execution_count": 31
        }
      ]
    },
    {
      "cell_type": "code",
      "metadata": {
        "id": "z6xNURYV7meC",
        "colab_type": "code",
        "colab": {}
      },
      "source": [
        "  abs_error = np.abs(y_pred - y_test)\n",
        "  sum_abs_error = np.sum(abs_error)\n",
        "  mae = sum_abs_error / y_test.size"
      ],
      "execution_count": 32,
      "outputs": []
    },
    {
      "cell_type": "code",
      "metadata": {
        "id": "ZzwIvh4c7qvG",
        "colab_type": "code",
        "colab": {
          "base_uri": "https://localhost:8080/",
          "height": 34
        },
        "outputId": "def1d4d1-8f9c-49ad-e7ea-cc2b12cc9c9b"
      },
      "source": [
        "#error remains almost same \n",
        "mae"
      ],
      "execution_count": 33,
      "outputs": [
        {
          "output_type": "execute_result",
          "data": {
            "text/plain": [
              "491.70879481013833"
            ]
          },
          "metadata": {
            "tags": []
          },
          "execution_count": 33
        }
      ]
    },
    {
      "cell_type": "code",
      "metadata": {
        "id": "MXAANQkZ_rSE",
        "colab_type": "code",
        "colab": {
          "base_uri": "https://localhost:8080/",
          "height": 406
        },
        "outputId": "e7fa8446-5f9f-466a-a60d-d1d2c671fae0"
      },
      "source": [
        "dataset"
      ],
      "execution_count": 34,
      "outputs": [
        {
          "output_type": "execute_result",
          "data": {
            "text/html": [
              "<div>\n",
              "<style scoped>\n",
              "    .dataframe tbody tr th:only-of-type {\n",
              "        vertical-align: middle;\n",
              "    }\n",
              "\n",
              "    .dataframe tbody tr th {\n",
              "        vertical-align: top;\n",
              "    }\n",
              "\n",
              "    .dataframe thead th {\n",
              "        text-align: right;\n",
              "    }\n",
              "</style>\n",
              "<table border=\"1\" class=\"dataframe\">\n",
              "  <thead>\n",
              "    <tr style=\"text-align: right;\">\n",
              "      <th></th>\n",
              "      <th>0</th>\n",
              "      <th>1</th>\n",
              "      <th>2</th>\n",
              "      <th>3</th>\n",
              "      <th>4</th>\n",
              "      <th>5</th>\n",
              "      <th>6</th>\n",
              "      <th>7</th>\n",
              "      <th>8</th>\n",
              "      <th>target</th>\n",
              "    </tr>\n",
              "  </thead>\n",
              "  <tbody>\n",
              "    <tr>\n",
              "      <th>0</th>\n",
              "      <td>7.547600</td>\n",
              "      <td>0.151261</td>\n",
              "      <td>557.132466</td>\n",
              "      <td>354.008599</td>\n",
              "      <td>0.301029</td>\n",
              "      <td>55.282594</td>\n",
              "      <td>9635.211683</td>\n",
              "      <td>2.0</td>\n",
              "      <td>1.0</td>\n",
              "      <td>9461.469590</td>\n",
              "    </tr>\n",
              "    <tr>\n",
              "      <th>1</th>\n",
              "      <td>3.140491</td>\n",
              "      <td>0.794497</td>\n",
              "      <td>837.116189</td>\n",
              "      <td>104.515774</td>\n",
              "      <td>0.110622</td>\n",
              "      <td>88.516243</td>\n",
              "      <td>9425.041942</td>\n",
              "      <td>2.0</td>\n",
              "      <td>5.0</td>\n",
              "      <td>10257.271938</td>\n",
              "    </tr>\n",
              "    <tr>\n",
              "      <th>2</th>\n",
              "      <td>2.064447</td>\n",
              "      <td>0.236500</td>\n",
              "      <td>313.757354</td>\n",
              "      <td>259.127993</td>\n",
              "      <td>0.729964</td>\n",
              "      <td>88.350465</td>\n",
              "      <td>9115.661199</td>\n",
              "      <td>1.0</td>\n",
              "      <td>5.0</td>\n",
              "      <td>8719.214483</td>\n",
              "    </tr>\n",
              "    <tr>\n",
              "      <th>3</th>\n",
              "      <td>9.099262</td>\n",
              "      <td>0.453953</td>\n",
              "      <td>661.409826</td>\n",
              "      <td>466.070226</td>\n",
              "      <td>0.432750</td>\n",
              "      <td>21.516152</td>\n",
              "      <td>9584.310016</td>\n",
              "      <td>3.0</td>\n",
              "      <td>2.0</td>\n",
              "      <td>9165.197338</td>\n",
              "    </tr>\n",
              "    <tr>\n",
              "      <th>4</th>\n",
              "      <td>5.264564</td>\n",
              "      <td>0.683869</td>\n",
              "      <td>344.154511</td>\n",
              "      <td>485.441053</td>\n",
              "      <td>0.085599</td>\n",
              "      <td>90.308205</td>\n",
              "      <td>9193.271575</td>\n",
              "      <td>2.0</td>\n",
              "      <td>1.0</td>\n",
              "      <td>9458.427537</td>\n",
              "    </tr>\n",
              "    <tr>\n",
              "      <th>...</th>\n",
              "      <td>...</td>\n",
              "      <td>...</td>\n",
              "      <td>...</td>\n",
              "      <td>...</td>\n",
              "      <td>...</td>\n",
              "      <td>...</td>\n",
              "      <td>...</td>\n",
              "      <td>...</td>\n",
              "      <td>...</td>\n",
              "      <td>...</td>\n",
              "    </tr>\n",
              "    <tr>\n",
              "      <th>895</th>\n",
              "      <td>1.488893</td>\n",
              "      <td>0.516765</td>\n",
              "      <td>519.122916</td>\n",
              "      <td>208.069869</td>\n",
              "      <td>0.686475</td>\n",
              "      <td>82.826536</td>\n",
              "      <td>9222.990086</td>\n",
              "      <td>3.0</td>\n",
              "      <td>4.0</td>\n",
              "      <td>7741.681561</td>\n",
              "    </tr>\n",
              "    <tr>\n",
              "      <th>896</th>\n",
              "      <td>3.623385</td>\n",
              "      <td>0.192006</td>\n",
              "      <td>296.631532</td>\n",
              "      <td>313.934667</td>\n",
              "      <td>0.434674</td>\n",
              "      <td>12.728746</td>\n",
              "      <td>9771.713946</td>\n",
              "      <td>3.0</td>\n",
              "      <td>1.0</td>\n",
              "      <td>8794.950815</td>\n",
              "    </tr>\n",
              "    <tr>\n",
              "      <th>897</th>\n",
              "      <td>0.251811</td>\n",
              "      <td>0.049025</td>\n",
              "      <td>992.634520</td>\n",
              "      <td>488.800512</td>\n",
              "      <td>0.319407</td>\n",
              "      <td>42.508449</td>\n",
              "      <td>9271.237213</td>\n",
              "      <td>3.0</td>\n",
              "      <td>5.0</td>\n",
              "      <td>9130.681938</td>\n",
              "    </tr>\n",
              "    <tr>\n",
              "      <th>898</th>\n",
              "      <td>7.495874</td>\n",
              "      <td>0.168602</td>\n",
              "      <td>898.795067</td>\n",
              "      <td>408.495374</td>\n",
              "      <td>0.605576</td>\n",
              "      <td>46.282780</td>\n",
              "      <td>9257.189326</td>\n",
              "      <td>2.0</td>\n",
              "      <td>1.0</td>\n",
              "      <td>8846.715266</td>\n",
              "    </tr>\n",
              "    <tr>\n",
              "      <th>899</th>\n",
              "      <td>6.314877</td>\n",
              "      <td>0.186995</td>\n",
              "      <td>968.025445</td>\n",
              "      <td>337.069336</td>\n",
              "      <td>0.107090</td>\n",
              "      <td>11.107343</td>\n",
              "      <td>9275.511360</td>\n",
              "      <td>2.0</td>\n",
              "      <td>3.0</td>\n",
              "      <td>10375.238911</td>\n",
              "    </tr>\n",
              "  </tbody>\n",
              "</table>\n",
              "<p>900 rows × 10 columns</p>\n",
              "</div>"
            ],
            "text/plain": [
              "            0         1           2  ...    7    8        target\n",
              "0    7.547600  0.151261  557.132466  ...  2.0  1.0   9461.469590\n",
              "1    3.140491  0.794497  837.116189  ...  2.0  5.0  10257.271938\n",
              "2    2.064447  0.236500  313.757354  ...  1.0  5.0   8719.214483\n",
              "3    9.099262  0.453953  661.409826  ...  3.0  2.0   9165.197338\n",
              "4    5.264564  0.683869  344.154511  ...  2.0  1.0   9458.427537\n",
              "..        ...       ...         ...  ...  ...  ...           ...\n",
              "895  1.488893  0.516765  519.122916  ...  3.0  4.0   7741.681561\n",
              "896  3.623385  0.192006  296.631532  ...  3.0  1.0   8794.950815\n",
              "897  0.251811  0.049025  992.634520  ...  3.0  5.0   9130.681938\n",
              "898  7.495874  0.168602  898.795067  ...  2.0  1.0   8846.715266\n",
              "899  6.314877  0.186995  968.025445  ...  2.0  3.0  10375.238911\n",
              "\n",
              "[900 rows x 10 columns]"
            ]
          },
          "metadata": {
            "tags": []
          },
          "execution_count": 34
        }
      ]
    },
    {
      "cell_type": "code",
      "metadata": {
        "id": "rcSsxFnL7rM4",
        "colab_type": "code",
        "colab": {}
      },
      "source": [
        "#predicted value after removing unnecessay columns \n",
        "X_train=dataset.iloc[:,[0,1,2,3,5,6,7,8]].values\n",
        "Y_train=dataset.iloc[:,9].values"
      ],
      "execution_count": 35,
      "outputs": []
    },
    {
      "cell_type": "code",
      "metadata": {
        "id": "U-CaGSVC-oCP",
        "colab_type": "code",
        "colab": {}
      },
      "source": [
        "X_test=preddata.iloc[:,[0,1,2,3,5,6,7,8]].values"
      ],
      "execution_count": 36,
      "outputs": []
    },
    {
      "cell_type": "code",
      "metadata": {
        "id": "rZurj3Em-BwU",
        "colab_type": "code",
        "colab": {
          "base_uri": "https://localhost:8080/",
          "height": 34
        },
        "outputId": "ed79fe64-9139-4883-9df6-f67f4faea278"
      },
      "source": [
        "from sklearn.linear_model import LinearRegression\n",
        "regressor=LinearRegression()\n",
        "regressor.fit(X_train,Y_train)"
      ],
      "execution_count": 37,
      "outputs": [
        {
          "output_type": "execute_result",
          "data": {
            "text/plain": [
              "LinearRegression(copy_X=True, fit_intercept=True, n_jobs=None, normalize=False)"
            ]
          },
          "metadata": {
            "tags": []
          },
          "execution_count": 37
        }
      ]
    },
    {
      "cell_type": "code",
      "metadata": {
        "id": "bHMhqAV9-8Bx",
        "colab_type": "code",
        "colab": {}
      },
      "source": [
        "y_pred=regressor.predict(X_test)"
      ],
      "execution_count": 38,
      "outputs": []
    },
    {
      "cell_type": "code",
      "metadata": {
        "id": "iTrqBJSUB9BJ",
        "colab_type": "code",
        "colab": {
          "base_uri": "https://localhost:8080/",
          "height": 437
        },
        "outputId": "11403a75-52db-4051-9682-08dc05882fc8"
      },
      "source": [
        "y_pred"
      ],
      "execution_count": 39,
      "outputs": [
        {
          "output_type": "execute_result",
          "data": {
            "text/plain": [
              "array([ 9746.21086013,  9440.52534788,  9106.50695955,  8365.42057745,\n",
              "        9971.13107811,  9788.5101548 ,  8136.8694006 , 10198.66982908,\n",
              "        9714.04688356,  9147.45088215,  8962.36274799, 10113.61148571,\n",
              "       10186.38577129,  8752.60799447,  8346.45448433,  9196.52499022,\n",
              "        8684.31071561, 10449.12476436,  8563.38890574,  8857.02014865,\n",
              "        9355.47801783,  8361.00692519,  9196.73431875,  8565.23036602,\n",
              "        8913.43753244,  8905.38461298,  9173.89667441,  9652.66746816,\n",
              "        8556.56865498,  9365.2640947 ,  9013.22750015,  9042.37656695,\n",
              "        9371.24044617,  9214.01719914, 10097.6236604 , 10336.43554086,\n",
              "        8674.06037181,  9286.08413881,  8839.1924884 ,  9492.30637933,\n",
              "        9306.89490481,  8848.55700672,  9095.93549987,  8522.67435605,\n",
              "        7991.35239459,  9369.22136349,  9095.65895931,  9127.80167756,\n",
              "        8850.67201804,  9451.93871837,  9436.69629872,  9154.75821213,\n",
              "        8930.74965292,  8169.20099629,  8855.61561466, 10260.07513199,\n",
              "        8241.87239348,  9583.82475644,  9234.71226812,  9019.23017479,\n",
              "        9225.50675702,  8540.74386579,  9746.16674168,  8555.02008336,\n",
              "        8149.03708812,  9563.6855122 ,  8524.9416543 ,  9122.24468103,\n",
              "        8332.19063468, 10165.48036937,  9209.46048878,  8959.47042814,\n",
              "        8121.69708594,  9555.46182265,  9179.90290813,  8688.73890272,\n",
              "        8967.90104599,  9328.06863275,  8351.39198769,  8561.38696531,\n",
              "        8910.42283427,  8585.11534489,  8520.43523623,  9081.94998682,\n",
              "        8919.85273966, 10078.83378309, 10077.96585218,  8955.93164947,\n",
              "        9107.15292429,  8999.27200864,  8497.76021288,  9094.3725926 ,\n",
              "        8476.90020274,  9472.80049042,  9029.10268887,  9146.48404474,\n",
              "        8888.30011009,  9465.54872862,  9806.22868004,  8277.05478265])"
            ]
          },
          "metadata": {
            "tags": []
          },
          "execution_count": 39
        }
      ]
    },
    {
      "cell_type": "code",
      "metadata": {
        "id": "7dC54ROaCClo",
        "colab_type": "code",
        "colab": {}
      },
      "source": [
        "preddata[\"Target\"]=y_pred"
      ],
      "execution_count": 40,
      "outputs": []
    },
    {
      "cell_type": "code",
      "metadata": {
        "id": "wC-6-vosGuWu",
        "colab_type": "code",
        "colab": {}
      },
      "source": [
        "preddata.to_csv('Prediction.csv')"
      ],
      "execution_count": 41,
      "outputs": []
    },
    {
      "cell_type": "code",
      "metadata": {
        "id": "HLiC-WngGwGM",
        "colab_type": "code",
        "colab": {}
      },
      "source": [
        ""
      ],
      "execution_count": 41,
      "outputs": []
    }
  ]
}